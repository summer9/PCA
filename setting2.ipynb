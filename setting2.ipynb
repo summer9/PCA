{
 "cells": [
  {
   "cell_type": "code",
   "execution_count": 1,
   "metadata": {},
   "outputs": [
    {
     "name": "stdout",
     "output_type": "stream",
     "text": [
      "Training set size: 15076\n",
      "Test set size: 3770\n",
      "Number of features: 3000\n",
      "Number of classes: 20\n",
      "Fitting 3 folds for each of 9 candidates, totalling 27 fits\n",
      "Best parameters: {'svm__C': 1, 'svm__gamma': 'scale'}\n",
      "Best CV accuracy: 0.6396\n",
      "Test accuracy: 0.6629\n",
      "Explained variance by PCA: 0.3381\n"
     ]
    }
   ],
   "source": [
    "from sklearn.datasets import fetch_20newsgroups\n",
    "from sklearn.feature_extraction.text import TfidfVectorizer\n",
    "from sklearn.model_selection import train_test_split, GridSearchCV\n",
    "from sklearn.preprocessing import StandardScaler\n",
    "from sklearn.decomposition import PCA\n",
    "from sklearn.svm import SVC\n",
    "from sklearn.pipeline import Pipeline\n",
    "import numpy as np\n",
    "\n",
    "# Load dataset\n",
    "newsgroups = fetch_20newsgroups(subset='all', remove=('headers', 'footers', 'quotes'))\n",
    "vectorizer = TfidfVectorizer(max_features=3000, stop_words='english', ngram_range=(1, 2))\n",
    "X = vectorizer.fit_transform(newsgroups.data)\n",
    "y = newsgroups.target\n",
    "\n",
    "# Convert sparse to dense for PCA\n",
    "X_dense = X.toarray()\n",
    "\n",
    "# Split into training and test sets\n",
    "X_train, X_test, y_train, y_test = train_test_split(\n",
    "    X_dense, y, test_size=0.2, random_state=42, stratify=y\n",
    ")\n",
    "print(f\"Training set size: {X_train.shape[0]}\")\n",
    "print(f\"Test set size: {X_test.shape[0]}\")\n",
    "print(f\"Number of features: {X_train.shape[1]}\")\n",
    "print(f\"Number of classes: {len(set(y))}\")\n",
    "\n",
    "# Build pipeline\n",
    "pipeline = Pipeline([\n",
    "    ('scaler', StandardScaler()),  # Important for SVM\n",
    "    ('pca', PCA(n_components=500, random_state=42)),\n",
    "    ('svm', SVC(kernel='rbf', random_state=42))\n",
    "])\n",
    "\n",
    "# Parameter grid for SVM\n",
    "param_grid = {\n",
    "    'svm__C': [0.1, 1, 10],\n",
    "    'svm__gamma': ['scale', 0.01, 0.001]\n",
    "}\n",
    "\n",
    "# Grid search with cross-validation\n",
    "grid_search = GridSearchCV(pipeline, param_grid, cv=3, verbose=1, n_jobs=-1)\n",
    "grid_search.fit(X_train, y_train)\n",
    "\n",
    "# Results\n",
    "print(f\"Best parameters: {grid_search.best_params_}\")\n",
    "print(f\"Best CV accuracy: {grid_search.best_score_:.4f}\")\n",
    "\n",
    "# Test performance\n",
    "test_score = grid_search.score(X_test, y_test)\n",
    "print(f\"Test accuracy: {test_score:.4f}\")\n",
    "# Show explained variance\n",
    "explained_var = np.sum(grid_search.best_estimator_.named_steps['pca'].explained_variance_ratio_)\n",
    "print(f\"Explained variance by PCA: {explained_var:.4f}\")"
   ]
  }
 ],
 "metadata": {
  "kernelspec": {
   "display_name": "Python 3",
   "language": "python",
   "name": "python3"
  },
  "language_info": {
   "codemirror_mode": {
    "name": "ipython",
    "version": 3
   },
   "file_extension": ".py",
   "mimetype": "text/x-python",
   "name": "python",
   "nbconvert_exporter": "python",
   "pygments_lexer": "ipython3",
   "version": "3.12.2"
  }
 },
 "nbformat": 4,
 "nbformat_minor": 2
}
